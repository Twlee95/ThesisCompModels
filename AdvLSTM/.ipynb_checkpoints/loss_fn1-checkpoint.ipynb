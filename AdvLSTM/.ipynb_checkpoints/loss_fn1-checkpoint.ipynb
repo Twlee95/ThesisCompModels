{
 "cells": [
  {
   "cell_type": "code",
   "execution_count": 1,
   "id": "cd152cf4-c000-4d63-a42c-080e78774325",
   "metadata": {},
   "outputs": [],
   "source": [
    "import import_ipynb\n",
    "import torch\n",
    "def l_(y_hat, target):\n",
    "    device = 'cuda' if torch.cuda.is_available() else 'cpu'\n",
    "    _1 = torch.tensor([[1.0]]).to(device)\n",
    "    _0 = torch.tensor([[0.0]]).to(device)\n",
    "    return torch.sum(torch.max(_0, _1-y_hat*target))\n",
    "\n",
    "def adv_loss(y_hat,y_hat_adv, target):\n",
    "    return l_(y_hat, target) + 0.1*l_(y_hat_adv, target)"
   ]
  }
 ],
 "metadata": {
  "kernelspec": {
   "display_name": "py38_64",
   "language": "python",
   "name": "py38_64"
  },
  "language_info": {
   "codemirror_mode": {
    "name": "ipython",
    "version": 3
   },
   "file_extension": ".py",
   "mimetype": "text/x-python",
   "name": "python",
   "nbconvert_exporter": "python",
   "pygments_lexer": "ipython3",
   "version": "3.8.11"
  }
 },
 "nbformat": 4,
 "nbformat_minor": 5
}
