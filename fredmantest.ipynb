{
 "cells": [
  {
   "cell_type": "code",
   "execution_count": 9,
   "metadata": {},
   "outputs": [],
   "source": [
    "import pandas as pd\n",
    "early_data = pd.read_csv(r\"C:\\Users\\USER\\Desktop\\early.csv\" ,header=0)"
   ]
  },
  {
   "cell_type": "code",
   "execution_count": 50,
   "metadata": {},
   "outputs": [
    {
     "name": "stdout",
     "output_type": "stream",
     "text": [
      "    number  early  dtml  adv  conv_bilstm+att\n",
      "0        1      1     2    4                3\n",
      "1        2      2     3    1                4\n",
      "2        3      1     4    3                2\n",
      "3        4      1     2    3                4\n",
      "4        5      2     4    1                3\n",
      "5        6      3     4    1                2\n",
      "6        7      4     1    3                2\n",
      "7        8      2     3    4                1\n",
      "8        9      1     4    3                2\n",
      "9       10      2     3    4                1\n",
      "10      11      1     2    4                3\n",
      "11      12      1     4    3                2\n",
      "12      13      1     2    3                4\n",
      "13      14      2     3    4                1\n",
      "14      15      1     3    4                2\n",
      "15      16      1     3    2                4\n",
      "16      17      3     1    4                2\n",
      "17      18      3     4    1                2\n",
      "18      19      2     3    4                1\n",
      "19      20      1     2    4                3\n",
      "20      21      1     4    3                2\n",
      "21      22      2     4    3                1\n",
      "22      23      1     2    4                3\n",
      "23      24      1     3    2                4\n",
      "24      25      2     4    3                1\n",
      "25      26      1     3    3                2\n",
      "26      27      3     1    4                2\n",
      "27      28      1     2    3                4\n",
      "28      29      3     1    2                4\n",
      "29      30      1     4    3                2\n",
      "30      31      2     3    4                1\n",
      "31      32      1     4    2                3\n",
      "32      33      2     3    4                1\n",
      "33      34      2     3    1                4\n",
      "34      35      1     3    4                2\n",
      "35      36      1     4    3                2\n",
      "36      37      3     1    2                4\n",
      "37      38      1     4    2                3\n",
      "38      39      1     4    3                2\n",
      "39      40      4     1    2                3\n",
      "40      41      2     1    3                4\n",
      "41      42      1     3    2                4\n",
      "42      43      3     4    2                1\n",
      "43      44      1     4    2                3\n",
      "44      45      1     2    3                4\n",
      "45      46      2     3    4                1\n",
      "46      47      1     4    3                2\n",
      "47      48      1     2    4                3\n",
      "48      49      2     4    1                3\n",
      "49      50      3     4    2                1\n"
     ]
    },
    {
     "data": {
      "text/plain": [
       "FriedmanchisquareResult(statistic=27.97394789579159, pvalue=3.6780558072118466e-06)"
      ]
     },
     "execution_count": 50,
     "metadata": {},
     "output_type": "execute_result"
    }
   ],
   "source": [
    "print(early_data)\n",
    "\n",
    "\n",
    "from scipy import stats\n",
    "import scipy\n",
    "\n",
    "g1=early_data.loc[:,\"early\"]\n",
    "g2=early_data.loc[:,\"dtml\"]\n",
    "g3=early_data.loc[:,\"adv\"]\n",
    "g4=early_data.loc[:,\"conv_bilstm+att\"]\n",
    "\n",
    "#perform Friedman Test\n",
    "stats.friedmanchisquare(g1,g2,g3,g4)\n",
    "\n"
   ]
  },
  {
   "cell_type": "code",
   "execution_count": 57,
   "metadata": {},
   "outputs": [
    {
     "name": "stdout",
     "output_type": "stream",
     "text": [
      "    rank  group\n",
      "0      1      1\n",
      "1      2      1\n",
      "2      1      1\n",
      "3      1      1\n",
      "4      2      1\n",
      "..   ...    ...\n",
      "45     1      4\n",
      "46     2      4\n",
      "47     3      4\n",
      "48     3      4\n",
      "49     1      4\n",
      "\n",
      "[200 rows x 2 columns]\n"
     ]
    }
   ],
   "source": [
    "ls1 = [1 for i in range(len(g1))]\n",
    "ls2 = [2 for i in range(len(g2))]\n",
    "ls3 = [3 for i in range(len(g3))]\n",
    "ls4 = [4 for i in range(len(g4))]\n",
    "gg1 = pd.Series(ls1)\n",
    "gg2 = pd.Series(ls2)\n",
    "gg3 = pd.Series(ls3)\n",
    "gg4 = pd.Series(ls4)\n",
    "\n",
    "class_A= pd.DataFrame({'rank':g1,'group':gg1})\n",
    "class_B= pd.DataFrame({'rank':g2,'group':gg2})\n",
    "class_C= pd.DataFrame({'rank':g3,'group':gg3})\n",
    "class_D= pd.DataFrame({'rank':g4,'group':gg4})\n",
    "\n",
    "\n",
    "# 위의 4개의 class 데이터 프레임을 concat합니다. \n",
    "class_all=pd.concat([class_A, class_B, class_C, class_D], axis=0)\n",
    "print(class_all)\n"
   ]
  },
  {
   "cell_type": "code",
   "execution_count": 58,
   "metadata": {},
   "outputs": [
    {
     "data": {
      "text/html": [
       "<table class=\"simpletable\">\n",
       "<caption>Test Multiple Comparison ttest_ind \n",
       "FWER=0.05 method=bonf\n",
       "alphacSidak=0.01, alphacBonf=0.008</caption>\n",
       "<tr>\n",
       "  <th>group1</th> <th>group2</th>  <th>stat</th>    <th>pval</th>  <th>pval_corr</th> <th>reject</th>\n",
       "</tr>\n",
       "<tr>\n",
       "     <td>1</td>      <td>2</td>   <td>-6.1342</td>   <td>0.0</td>     <td>0.0</td>     <td>True</td> \n",
       "</tr>\n",
       "<tr>\n",
       "     <td>1</td>      <td>3</td>   <td>-6.0117</td>   <td>0.0</td>     <td>0.0</td>     <td>True</td> \n",
       "</tr>\n",
       "<tr>\n",
       "     <td>1</td>      <td>4</td>   <td>-3.8282</td> <td>0.0002</td>  <td>0.0014</td>    <td>True</td> \n",
       "</tr>\n",
       "<tr>\n",
       "     <td>2</td>      <td>3</td>   <td>0.2889</td>  <td>0.7733</td>    <td>1.0</td>     <td>False</td>\n",
       "</tr>\n",
       "<tr>\n",
       "     <td>2</td>      <td>4</td>   <td>2.0383</td>  <td>0.0442</td>  <td>0.2653</td>    <td>False</td>\n",
       "</tr>\n",
       "<tr>\n",
       "     <td>3</td>      <td>4</td>   <td>1.8057</td>   <td>0.074</td>  <td>0.4442</td>    <td>False</td>\n",
       "</tr>\n",
       "</table>"
      ],
      "text/plain": [
       "<class 'statsmodels.iolib.table.SimpleTable'>"
      ]
     },
     "execution_count": 58,
     "metadata": {},
     "output_type": "execute_result"
    }
   ],
   "source": [
    "from statsmodels.sandbox.stats.multicomp import MultiComparison\n",
    "import scipy.stats\n",
    "\n",
    "comp = MultiComparison(class_all['rank'],class_all['group'])\n",
    "\n",
    "# Bonferroni 방법을 통해 모든 그룹간 ttest를 진행\n",
    "result = comp.allpairtest(scipy.stats.ttest_ind, method='bonf')\n",
    "result[0]\n"
   ]
  }
 ],
 "metadata": {
  "kernelspec": {
   "display_name": "py38_64",
   "language": "python",
   "name": "py38_64"
  },
  "language_info": {
   "codemirror_mode": {
    "name": "ipython",
    "version": 3
   },
   "file_extension": ".py",
   "mimetype": "text/x-python",
   "name": "python",
   "nbconvert_exporter": "python",
   "pygments_lexer": "ipython3",
   "version": "3.8.12"
  },
  "orig_nbformat": 4
 },
 "nbformat": 4,
 "nbformat_minor": 2
}
